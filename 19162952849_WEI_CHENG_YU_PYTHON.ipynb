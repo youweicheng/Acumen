{
 "cells": [
  {
   "cell_type": "markdown",
   "metadata": {},
   "source": []
  },
  {
   "cell_type": "code",
   "execution_count": 1,
   "metadata": {},
   "outputs": [
    {
     "name": "stderr",
     "output_type": "stream",
     "text": [
      "/Users/youweicheng/Library/Python/3.9/lib/python/site-packages/openpyxl/worksheet/_reader.py:329: UserWarning: Unknown extension is not supported and will be removed\n",
      "  warn(msg)\n"
     ]
    }
   ],
   "source": [
    "import pandas as pd\n",
    "\n",
    "df = pd.read_excel('Data Analyst File.xlsx', sheet_name='Admin')"
   ]
  },
  {
   "cell_type": "code",
   "execution_count": 2,
   "metadata": {},
   "outputs": [
    {
     "data": {
      "text/html": [
       "<div>\n",
       "<style scoped>\n",
       "    .dataframe tbody tr th:only-of-type {\n",
       "        vertical-align: middle;\n",
       "    }\n",
       "\n",
       "    .dataframe tbody tr th {\n",
       "        vertical-align: top;\n",
       "    }\n",
       "\n",
       "    .dataframe thead th {\n",
       "        text-align: right;\n",
       "    }\n",
       "</style>\n",
       "<table border=\"1\" class=\"dataframe\">\n",
       "  <thead>\n",
       "    <tr style=\"text-align: right;\">\n",
       "      <th></th>\n",
       "      <th>ID</th>\n",
       "      <th>Med</th>\n",
       "      <th>Admin Date</th>\n",
       "      <th>Units</th>\n",
       "    </tr>\n",
       "  </thead>\n",
       "  <tbody>\n",
       "    <tr>\n",
       "      <th>0</th>\n",
       "      <td>1</td>\n",
       "      <td>Med A</td>\n",
       "      <td>2012-07-02</td>\n",
       "      <td>1500</td>\n",
       "    </tr>\n",
       "    <tr>\n",
       "      <th>1</th>\n",
       "      <td>1</td>\n",
       "      <td>Med A</td>\n",
       "      <td>2012-07-06</td>\n",
       "      <td>1500</td>\n",
       "    </tr>\n",
       "    <tr>\n",
       "      <th>2</th>\n",
       "      <td>1</td>\n",
       "      <td>Med A</td>\n",
       "      <td>2012-07-09</td>\n",
       "      <td>1500</td>\n",
       "    </tr>\n",
       "    <tr>\n",
       "      <th>3</th>\n",
       "      <td>1</td>\n",
       "      <td>Med A</td>\n",
       "      <td>2012-07-11</td>\n",
       "      <td>1500</td>\n",
       "    </tr>\n",
       "    <tr>\n",
       "      <th>4</th>\n",
       "      <td>1</td>\n",
       "      <td>Med A</td>\n",
       "      <td>2012-07-13</td>\n",
       "      <td>1500</td>\n",
       "    </tr>\n",
       "  </tbody>\n",
       "</table>\n",
       "</div>"
      ],
      "text/plain": [
       "   ID    Med Admin Date  Units\n",
       "0   1  Med A 2012-07-02   1500\n",
       "1   1  Med A 2012-07-06   1500\n",
       "2   1  Med A 2012-07-09   1500\n",
       "3   1  Med A 2012-07-11   1500\n",
       "4   1  Med A 2012-07-13   1500"
      ]
     },
     "execution_count": 2,
     "metadata": {},
     "output_type": "execute_result"
    }
   ],
   "source": [
    "df.head()"
   ]
  },
  {
   "cell_type": "code",
   "execution_count": 3,
   "metadata": {},
   "outputs": [
    {
     "name": "stdout",
     "output_type": "stream",
     "text": [
      "<class 'pandas.core.frame.DataFrame'>\n",
      "RangeIndex: 2022 entries, 0 to 2021\n",
      "Data columns (total 4 columns):\n",
      " #   Column      Non-Null Count  Dtype         \n",
      "---  ------      --------------  -----         \n",
      " 0   ID          2022 non-null   int64         \n",
      " 1   Med         2022 non-null   object        \n",
      " 2   Admin Date  2022 non-null   datetime64[ns]\n",
      " 3   Units       2022 non-null   int64         \n",
      "dtypes: datetime64[ns](1), int64(2), object(1)\n",
      "memory usage: 63.3+ KB\n"
     ]
    }
   ],
   "source": [
    "df.info()"
   ]
  },
  {
   "cell_type": "code",
   "execution_count": 4,
   "metadata": {},
   "outputs": [],
   "source": [
    "def trans_date(Series):\n",
    "\n",
    "    df['year'] = pd.to_datetime(df[Series]).dt.year\n",
    "    df['month'] = pd.to_datetime(df[Series]).dt.month\n",
    "    df['day'] = pd.to_datetime(df[Series]).dt.day\n",
    "    \n",
    "trans_date('Admin Date')"
   ]
  },
  {
   "cell_type": "code",
   "execution_count": 5,
   "metadata": {},
   "outputs": [],
   "source": [
    "df[['month', 'Units']] = df[['month', 'Units']].astype('int')\n"
   ]
  },
  {
   "cell_type": "code",
   "execution_count": 6,
   "metadata": {},
   "outputs": [
    {
     "data": {
      "text/html": [
       "<div>\n",
       "<style scoped>\n",
       "    .dataframe tbody tr th:only-of-type {\n",
       "        vertical-align: middle;\n",
       "    }\n",
       "\n",
       "    .dataframe tbody tr th {\n",
       "        vertical-align: top;\n",
       "    }\n",
       "\n",
       "    .dataframe thead th {\n",
       "        text-align: right;\n",
       "    }\n",
       "</style>\n",
       "<table border=\"1\" class=\"dataframe\">\n",
       "  <thead>\n",
       "    <tr style=\"text-align: right;\">\n",
       "      <th></th>\n",
       "      <th>ID</th>\n",
       "      <th>Med</th>\n",
       "      <th>Admin Date</th>\n",
       "      <th>Units</th>\n",
       "      <th>year</th>\n",
       "      <th>month</th>\n",
       "      <th>day</th>\n",
       "    </tr>\n",
       "  </thead>\n",
       "  <tbody>\n",
       "    <tr>\n",
       "      <th>0</th>\n",
       "      <td>1</td>\n",
       "      <td>Med A</td>\n",
       "      <td>2012-07-02</td>\n",
       "      <td>1500</td>\n",
       "      <td>2012</td>\n",
       "      <td>7</td>\n",
       "      <td>2</td>\n",
       "    </tr>\n",
       "    <tr>\n",
       "      <th>1</th>\n",
       "      <td>1</td>\n",
       "      <td>Med A</td>\n",
       "      <td>2012-07-06</td>\n",
       "      <td>1500</td>\n",
       "      <td>2012</td>\n",
       "      <td>7</td>\n",
       "      <td>6</td>\n",
       "    </tr>\n",
       "    <tr>\n",
       "      <th>2</th>\n",
       "      <td>1</td>\n",
       "      <td>Med A</td>\n",
       "      <td>2012-07-09</td>\n",
       "      <td>1500</td>\n",
       "      <td>2012</td>\n",
       "      <td>7</td>\n",
       "      <td>9</td>\n",
       "    </tr>\n",
       "    <tr>\n",
       "      <th>3</th>\n",
       "      <td>1</td>\n",
       "      <td>Med A</td>\n",
       "      <td>2012-07-11</td>\n",
       "      <td>1500</td>\n",
       "      <td>2012</td>\n",
       "      <td>7</td>\n",
       "      <td>11</td>\n",
       "    </tr>\n",
       "    <tr>\n",
       "      <th>4</th>\n",
       "      <td>1</td>\n",
       "      <td>Med A</td>\n",
       "      <td>2012-07-13</td>\n",
       "      <td>1500</td>\n",
       "      <td>2012</td>\n",
       "      <td>7</td>\n",
       "      <td>13</td>\n",
       "    </tr>\n",
       "    <tr>\n",
       "      <th>...</th>\n",
       "      <td>...</td>\n",
       "      <td>...</td>\n",
       "      <td>...</td>\n",
       "      <td>...</td>\n",
       "      <td>...</td>\n",
       "      <td>...</td>\n",
       "      <td>...</td>\n",
       "    </tr>\n",
       "    <tr>\n",
       "      <th>2017</th>\n",
       "      <td>129</td>\n",
       "      <td>Med A</td>\n",
       "      <td>2012-08-27</td>\n",
       "      <td>5200</td>\n",
       "      <td>2012</td>\n",
       "      <td>8</td>\n",
       "      <td>27</td>\n",
       "    </tr>\n",
       "    <tr>\n",
       "      <th>2018</th>\n",
       "      <td>129</td>\n",
       "      <td>Med A</td>\n",
       "      <td>2012-08-30</td>\n",
       "      <td>5200</td>\n",
       "      <td>2012</td>\n",
       "      <td>8</td>\n",
       "      <td>30</td>\n",
       "    </tr>\n",
       "    <tr>\n",
       "      <th>2019</th>\n",
       "      <td>129</td>\n",
       "      <td>Med A</td>\n",
       "      <td>2012-09-04</td>\n",
       "      <td>5200</td>\n",
       "      <td>2012</td>\n",
       "      <td>9</td>\n",
       "      <td>4</td>\n",
       "    </tr>\n",
       "    <tr>\n",
       "      <th>2020</th>\n",
       "      <td>129</td>\n",
       "      <td>Med A</td>\n",
       "      <td>2012-09-06</td>\n",
       "      <td>6500</td>\n",
       "      <td>2012</td>\n",
       "      <td>9</td>\n",
       "      <td>6</td>\n",
       "    </tr>\n",
       "    <tr>\n",
       "      <th>2021</th>\n",
       "      <td>129</td>\n",
       "      <td>Med B</td>\n",
       "      <td>2012-09-13</td>\n",
       "      <td>10</td>\n",
       "      <td>2012</td>\n",
       "      <td>9</td>\n",
       "      <td>13</td>\n",
       "    </tr>\n",
       "  </tbody>\n",
       "</table>\n",
       "<p>2022 rows × 7 columns</p>\n",
       "</div>"
      ],
      "text/plain": [
       "       ID    Med Admin Date  Units  year  month  day\n",
       "0       1  Med A 2012-07-02   1500  2012      7    2\n",
       "1       1  Med A 2012-07-06   1500  2012      7    6\n",
       "2       1  Med A 2012-07-09   1500  2012      7    9\n",
       "3       1  Med A 2012-07-11   1500  2012      7   11\n",
       "4       1  Med A 2012-07-13   1500  2012      7   13\n",
       "...   ...    ...        ...    ...   ...    ...  ...\n",
       "2017  129  Med A 2012-08-27   5200  2012      8   27\n",
       "2018  129  Med A 2012-08-30   5200  2012      8   30\n",
       "2019  129  Med A 2012-09-04   5200  2012      9    4\n",
       "2020  129  Med A 2012-09-06   6500  2012      9    6\n",
       "2021  129  Med B 2012-09-13     10  2012      9   13\n",
       "\n",
       "[2022 rows x 7 columns]"
      ]
     },
     "execution_count": 6,
     "metadata": {},
     "output_type": "execute_result"
    }
   ],
   "source": [
    "df"
   ]
  },
  {
   "cell_type": "code",
   "execution_count": 7,
   "metadata": {},
   "outputs": [
    {
     "data": {
      "text/plain": [
       "Med    month\n",
       "Med A  7        4303700\n",
       "       8        4477100\n",
       "       9         849900\n",
       "       11         75300\n",
       "       12         10200\n",
       "Med B  9            535\n",
       "       10           393\n",
       "       11           420\n",
       "       12             1\n",
       "Name: Units, dtype: int64"
      ]
     },
     "execution_count": 7,
     "metadata": {},
     "output_type": "execute_result"
    }
   ],
   "source": [
    "# 1. Total number of units in each month for each medication across patients. \n",
    "\n",
    "total_number_units_utilized = df.groupby(['Med', 'month'])['Units'].sum()\n",
    "total_number_units_utilized"
   ]
  },
  {
   "cell_type": "code",
   "execution_count": 8,
   "metadata": {},
   "outputs": [
    {
     "data": {
      "text/plain": [
       "Med    month\n",
       "Med A  7        55745\n",
       "       8        53152\n",
       "       9        11025\n",
       "       11         246\n",
       "       12         143\n",
       "Med B  9         5088\n",
       "       10        4401\n",
       "       11        5096\n",
       "       12         108\n",
       "Name: ID, dtype: int64"
      ]
     },
     "execution_count": 8,
     "metadata": {},
     "output_type": "execute_result"
    }
   ],
   "source": [
    "# 2. how many pateints received Med A or Med B in each month from July to Nov\n",
    "\n",
    "patient_receive_med_a_b = df.groupby(['Med', 'month'])['ID'].sum()\n",
    "patient_receive_med_a_b"
   ]
  },
  {
   "cell_type": "code",
   "execution_count": 9,
   "metadata": {},
   "outputs": [
    {
     "data": {
      "text/plain": [
       "Med    month\n",
       "Med A  7         5129.558999\n",
       "       8         5645.775536\n",
       "       9         5311.875000\n",
       "       11       10757.142857\n",
       "       12        3400.000000\n",
       "Med B  9            7.039474\n",
       "       10           5.779412\n",
       "       11           5.600000\n",
       "       12           1.000000\n",
       "Name: Units, dtype: float64"
      ]
     },
     "execution_count": 9,
     "metadata": {},
     "output_type": "execute_result"
    }
   ],
   "source": [
    "# 3. what's the average total monthly dose per patient for each medication in each month (July to Nov)\n",
    "\n",
    "average_units_utilized = df.groupby(['Med', 'month'])['Units'].mean()\n",
    "average_units_utilized"
   ]
  },
  {
   "cell_type": "code",
   "execution_count": 10,
   "metadata": {},
   "outputs": [
    {
     "data": {
      "text/plain": [
       "Med    month\n",
       "Med A  7        839\n",
       "       8        793\n",
       "       9        160\n",
       "       11         7\n",
       "       12         3\n",
       "Med B  9         76\n",
       "       10        68\n",
       "       11        75\n",
       "       12         1\n",
       "Name: ID, dtype: int64"
      ]
     },
     "execution_count": 10,
     "metadata": {},
     "output_type": "execute_result"
    }
   ],
   "source": [
    "average_units_utilized = df.groupby(['Med', 'month'])['ID'].count()\n",
    "average_units_utilized"
   ]
  },
  {
   "cell_type": "code",
   "execution_count": 11,
   "metadata": {},
   "outputs": [
    {
     "name": "stderr",
     "output_type": "stream",
     "text": [
      "/var/folders/wk/sjdjx94s6pzdbsvs0ktmtncr0000gn/T/ipykernel_3262/2882843451.py:23: DeprecationWarning: DataFrameGroupBy.apply operated on the grouping columns. This behavior is deprecated, and in a future version of pandas the grouping columns will be excluded from the operation. Either pass `include_groups=False` to exclude the groupings or explicitly select the grouping columns after groupby to silence this warning.\n",
      "  switched_counts = df_4.groupby('month').apply(lambda group: group.groupby('ID').apply(switch_to_med_b).sum())\n",
      "/var/folders/wk/sjdjx94s6pzdbsvs0ktmtncr0000gn/T/ipykernel_3262/2882843451.py:23: DeprecationWarning: DataFrameGroupBy.apply operated on the grouping columns. This behavior is deprecated, and in a future version of pandas the grouping columns will be excluded from the operation. Either pass `include_groups=False` to exclude the groupings or explicitly select the grouping columns after groupby to silence this warning.\n",
      "  switched_counts = df_4.groupby('month').apply(lambda group: group.groupby('ID').apply(switch_to_med_b).sum())\n",
      "/var/folders/wk/sjdjx94s6pzdbsvs0ktmtncr0000gn/T/ipykernel_3262/2882843451.py:23: DeprecationWarning: DataFrameGroupBy.apply operated on the grouping columns. This behavior is deprecated, and in a future version of pandas the grouping columns will be excluded from the operation. Either pass `include_groups=False` to exclude the groupings or explicitly select the grouping columns after groupby to silence this warning.\n",
      "  switched_counts = df_4.groupby('month').apply(lambda group: group.groupby('ID').apply(switch_to_med_b).sum())\n",
      "/var/folders/wk/sjdjx94s6pzdbsvs0ktmtncr0000gn/T/ipykernel_3262/2882843451.py:23: DeprecationWarning: DataFrameGroupBy.apply operated on the grouping columns. This behavior is deprecated, and in a future version of pandas the grouping columns will be excluded from the operation. Either pass `include_groups=False` to exclude the groupings or explicitly select the grouping columns after groupby to silence this warning.\n",
      "  switched_counts = df_4.groupby('month').apply(lambda group: group.groupby('ID').apply(switch_to_med_b).sum())\n",
      "/var/folders/wk/sjdjx94s6pzdbsvs0ktmtncr0000gn/T/ipykernel_3262/2882843451.py:27: DeprecationWarning: DataFrameGroupBy.apply operated on the grouping columns. This behavior is deprecated, and in a future version of pandas the grouping columns will be excluded from the operation. Either pass `include_groups=False` to exclude the groupings or explicitly select the grouping columns after groupby to silence this warning.\n",
      "  started_counts = df_4.groupby('month').apply(lambda group: group.groupby('ID').apply(started_on_med_b).sum())\n",
      "/var/folders/wk/sjdjx94s6pzdbsvs0ktmtncr0000gn/T/ipykernel_3262/2882843451.py:27: DeprecationWarning: DataFrameGroupBy.apply operated on the grouping columns. This behavior is deprecated, and in a future version of pandas the grouping columns will be excluded from the operation. Either pass `include_groups=False` to exclude the groupings or explicitly select the grouping columns after groupby to silence this warning.\n",
      "  started_counts = df_4.groupby('month').apply(lambda group: group.groupby('ID').apply(started_on_med_b).sum())\n"
     ]
    },
    {
     "name": "stdout",
     "output_type": "stream",
     "text": [
      "Patients switched from Med A to Med B per month:\n",
      "month\n",
      "9     62\n",
      "10     0\n",
      "11     0\n",
      "dtype: int64\n",
      "\n",
      "Patients started on Med B without Mad A per month:\n",
      "month\n",
      "9     14\n",
      "10    66\n",
      "11    72\n",
      "dtype: int64\n",
      "\n",
      "Total patients switched from Med A to Med B across all months: 67\n"
     ]
    },
    {
     "name": "stderr",
     "output_type": "stream",
     "text": [
      "/var/folders/wk/sjdjx94s6pzdbsvs0ktmtncr0000gn/T/ipykernel_3262/2882843451.py:27: DeprecationWarning: DataFrameGroupBy.apply operated on the grouping columns. This behavior is deprecated, and in a future version of pandas the grouping columns will be excluded from the operation. Either pass `include_groups=False` to exclude the groupings or explicitly select the grouping columns after groupby to silence this warning.\n",
      "  started_counts = df_4.groupby('month').apply(lambda group: group.groupby('ID').apply(started_on_med_b).sum())\n",
      "/var/folders/wk/sjdjx94s6pzdbsvs0ktmtncr0000gn/T/ipykernel_3262/2882843451.py:27: DeprecationWarning: DataFrameGroupBy.apply operated on the grouping columns. This behavior is deprecated, and in a future version of pandas the grouping columns will be excluded from the operation. Either pass `include_groups=False` to exclude the groupings or explicitly select the grouping columns after groupby to silence this warning.\n",
      "  started_counts = df_4.groupby('month').apply(lambda group: group.groupby('ID').apply(started_on_med_b).sum())\n",
      "/var/folders/wk/sjdjx94s6pzdbsvs0ktmtncr0000gn/T/ipykernel_3262/2882843451.py:31: DeprecationWarning: DataFrameGroupBy.apply operated on the grouping columns. This behavior is deprecated, and in a future version of pandas the grouping columns will be excluded from the operation. Either pass `include_groups=False` to exclude the groupings or explicitly select the grouping columns after groupby to silence this warning.\n",
      "  total_switched = df_4.groupby('ID').apply(switch_to_med_b).sum()\n"
     ]
    }
   ],
   "source": [
    "# 4. In each month seperately (Sep, Oct, Nov) and also all together across these 3 months,\n",
    "# how many patients are switched from Med A to Med B? In each month separately (Sep, Oct, Nov)\n",
    "# how many patients are started on Med B having not been on Med A before\n",
    "\n",
    "months = [9, 10, 11]\n",
    "df_4 = df[df['month'].isin(months)]\n",
    "\n",
    "def switch_to_med_b(group):\n",
    "    med_a = group[group['Med'] == 'Med A']\n",
    "    med_b = group[group['Med'] == 'Med B']\n",
    "    if len(med_a) > 0 and len(med_b) > 0 and med_b.index.min() > med_a.index.max():\n",
    "        return 1\n",
    "    return 0\n",
    "\n",
    "def started_on_med_b(group):\n",
    "    med_a = group[group['Med'] == 'Med A']\n",
    "    med_b = group[group['Med'] == 'Med B']\n",
    "    if len(med_a) == 0 and len(med_b) > 0:\n",
    "        return 1\n",
    "    return 0\n",
    "\n",
    "\n",
    "switched_counts = df_4.groupby('month').apply(lambda group: group.groupby('ID').apply(switch_to_med_b).sum())\n",
    "print('Patients switched from Med A to Med B per month:')\n",
    "print(switched_counts)\n",
    "\n",
    "started_counts = df_4.groupby('month').apply(lambda group: group.groupby('ID').apply(started_on_med_b).sum())\n",
    "print('\\nPatients started on Med B without Mad A per month:')\n",
    "print(started_counts)\n",
    "\n",
    "total_switched = df_4.groupby('ID').apply(switch_to_med_b).sum()\n",
    "print(f'\\nTotal patients switched from Med A to Med B across all months: {total_switched}')"
   ]
  },
  {
   "cell_type": "code",
   "execution_count": 12,
   "metadata": {},
   "outputs": [
    {
     "data": {
      "text/plain": [
       "Timedelta('155 days 00:00:00')"
      ]
     },
     "execution_count": 12,
     "metadata": {},
     "output_type": "execute_result"
    }
   ],
   "source": [
    "a = df[df['Med'] == 'Med A']['Admin Date'].min()\n",
    "b = df[df['Med'] == 'Med A']['Admin Date'].max()\n",
    "b - a"
   ]
  },
  {
   "cell_type": "code",
   "execution_count": 13,
   "metadata": {},
   "outputs": [
    {
     "name": "stderr",
     "output_type": "stream",
     "text": [
      "/var/folders/wk/sjdjx94s6pzdbsvs0ktmtncr0000gn/T/ipykernel_3262/213018819.py:20: DeprecationWarning: DataFrameGroupBy.apply operated on the grouping columns. This behavior is deprecated, and in a future version of pandas the grouping columns will be excluded from the operation. Either pass `include_groups=False` to exclude the groupings or explicitly select the grouping columns after groupby to silence this warning.\n",
      "  avg_weeks_per_month = df_5.groupby('month').apply(lambda group: df_5[df_5['month'] == group.name].groupby('ID').apply(weeks_on_med_a).mean())\n"
     ]
    },
    {
     "name": "stdout",
     "output_type": "stream",
     "text": [
      "Average weeks on Med A before switching to B per month:\n",
      "month\n",
      "9     1.134647\n",
      "10    0.000000\n",
      "11    0.000000\n",
      "dtype: float64\n",
      "\n",
      "Average weeks on Med A before switching to B across all months: 6.311184939091915\n"
     ]
    },
    {
     "name": "stderr",
     "output_type": "stream",
     "text": [
      "/var/folders/wk/sjdjx94s6pzdbsvs0ktmtncr0000gn/T/ipykernel_3262/213018819.py:20: DeprecationWarning: DataFrameGroupBy.apply operated on the grouping columns. This behavior is deprecated, and in a future version of pandas the grouping columns will be excluded from the operation. Either pass `include_groups=False` to exclude the groupings or explicitly select the grouping columns after groupby to silence this warning.\n",
      "  avg_weeks_per_month = df_5.groupby('month').apply(lambda group: df_5[df_5['month'] == group.name].groupby('ID').apply(weeks_on_med_a).mean())\n",
      "/var/folders/wk/sjdjx94s6pzdbsvs0ktmtncr0000gn/T/ipykernel_3262/213018819.py:20: DeprecationWarning: DataFrameGroupBy.apply operated on the grouping columns. This behavior is deprecated, and in a future version of pandas the grouping columns will be excluded from the operation. Either pass `include_groups=False` to exclude the groupings or explicitly select the grouping columns after groupby to silence this warning.\n",
      "  avg_weeks_per_month = df_5.groupby('month').apply(lambda group: df_5[df_5['month'] == group.name].groupby('ID').apply(weeks_on_med_a).mean())\n",
      "/var/folders/wk/sjdjx94s6pzdbsvs0ktmtncr0000gn/T/ipykernel_3262/213018819.py:20: DeprecationWarning: DataFrameGroupBy.apply operated on the grouping columns. This behavior is deprecated, and in a future version of pandas the grouping columns will be excluded from the operation. Either pass `include_groups=False` to exclude the groupings or explicitly select the grouping columns after groupby to silence this warning.\n",
      "  avg_weeks_per_month = df_5.groupby('month').apply(lambda group: df_5[df_5['month'] == group.name].groupby('ID').apply(weeks_on_med_a).mean())\n",
      "/var/folders/wk/sjdjx94s6pzdbsvs0ktmtncr0000gn/T/ipykernel_3262/213018819.py:24: DeprecationWarning: DataFrameGroupBy.apply operated on the grouping columns. This behavior is deprecated, and in a future version of pandas the grouping columns will be excluded from the operation. Either pass `include_groups=False` to exclude the groupings or explicitly select the grouping columns after groupby to silence this warning.\n",
      "  avg_weeks_total = df.groupby(\"ID\").apply(weeks_on_med_a).mean()\n"
     ]
    }
   ],
   "source": [
    "# 5. In each month separately (Sep, Oct, Nov) and across all 3 months, \n",
    "# for patients switched to Med B, what is the average number of weeks the patients were on Med A\n",
    "# before being switched to Med B\n",
    "# Assume a week is 7 days and a month is 4.33 weeks\n",
    "\n",
    "months = [9 ,10 , 11]\n",
    "df_5 = df[df['month'].isin(months)]\n",
    "\n",
    "\n",
    "def weeks_on_med_a(group):\n",
    "    med_a = group[group['Med'] == 'Med A']\n",
    "    med_b = group[group['Med'] == 'Med B']\n",
    "    if len(med_a) > 0 and len(med_b) > 0 and med_b.index.min() > med_a.index.max():\n",
    "        med_a_start = med_a.iloc[0]['Admin Date']\n",
    "        med_b_start = med_b.iloc[0]['Admin Date']\n",
    "        weeks_on_med_a = (med_b_start - med_a_start).days / 7\n",
    "        return weeks_on_med_a\n",
    "    return 0\n",
    "\n",
    "avg_weeks_per_month = df_5.groupby('month').apply(lambda group: df_5[df_5['month'] == group.name].groupby('ID').apply(weeks_on_med_a).mean())\n",
    "print('Average weeks on Med A before switching to B per month:')\n",
    "print(avg_weeks_per_month)\n",
    "\n",
    "avg_weeks_total = df.groupby(\"ID\").apply(weeks_on_med_a).mean()\n",
    "print(f'\\nAverage weeks on Med A before switching to B across all months: {avg_weeks_total}')"
   ]
  },
  {
   "cell_type": "code",
   "execution_count": 49,
   "metadata": {},
   "outputs": [
    {
     "name": "stdout",
     "output_type": "stream",
     "text": [
      "Average total monthly dose per patient of Med A before switching: 248225.2531048775\n",
      "Average total monthly dose per patient of Med B: 9.713178294573643\n"
     ]
    },
    {
     "name": "stderr",
     "output_type": "stream",
     "text": [
      "/var/folders/wk/sjdjx94s6pzdbsvs0ktmtncr0000gn/T/ipykernel_3262/4159136882.py:19: DeprecationWarning: DataFrameGroupBy.apply operated on the grouping columns. This behavior is deprecated, and in a future version of pandas the grouping columns will be excluded from the operation. Either pass `include_groups=False` to exclude the groupings or explicitly select the grouping columns after groupby to silence this warning.\n",
      "  monthly_doses = df.groupby('ID').apply(monthly_dose)\n"
     ]
    }
   ],
   "source": [
    "# 6. What is the average total monthly dose per patient per month(in patients that swithced) \n",
    "# of Med A before switching to Med B\n",
    "# What is the average total monthly dose per patient\n",
    "# per month of Med B (in patients that switched - assume Med B dose is for 1 month)\n",
    "\n",
    "months = [9, 10, 11]\n",
    "df_6 = df[df['month'].isin(months)]\n",
    "\n",
    "\n",
    "def monthly_dose(group):\n",
    "    med_a = group[group['Med'] == 'Med A']\n",
    "    med_b = group[group['Med'] == 'Med B']\n",
    "    if len(med_a) > 0 and len(med_b) > 0 and med_b.index.min() > med_a.index.max():\n",
    "        med_a_monthly_dose = med_a['Units'].sum() * 4.33 / 1.134647\n",
    "        med_b_monthly_dose = med_b['Units'].sum()\n",
    "        return pd.Series({'med_a_monthly_dose': med_a_monthly_dose, 'med_b_monthly_dose': med_b_monthly_dose})\n",
    "    return pd.Series({'med_a_monthly_dose': 0, 'med_b_monthly_dose': 0})\n",
    "\n",
    "monthly_doses = df.groupby('ID').apply(monthly_dose)\n",
    "avg_med_a_dose = monthly_doses['med_a_monthly_dose'].mean()\n",
    "avg_med_b_dose = monthly_doses['med_b_monthly_dose'].mean()\n",
    "\n",
    "print(f'Average total monthly dose per patient of Med A before switching: {avg_med_a_dose}')\n",
    "print(f'Average total monthly dose per patient of Med B: {avg_med_b_dose}')\n",
    "\n"
   ]
  },
  {
   "cell_type": "code",
   "execution_count": 48,
   "metadata": {},
   "outputs": [
    {
     "name": "stdout",
     "output_type": "stream",
     "text": [
      "255.55512889488585\n"
     ]
    }
   ],
   "source": [
    "# 7. If Medication A cost 1 for 100 units, what is the breakeaven price point for Medication B (per unit of B)?\n",
    "\n",
    "print(avg_med_a_dose/100/avg_med_b_dose)"
   ]
  },
  {
   "cell_type": "code",
   "execution_count": 59,
   "metadata": {},
   "outputs": [
    {
     "name": "stderr",
     "output_type": "stream",
     "text": [
      "/var/folders/wk/sjdjx94s6pzdbsvs0ktmtncr0000gn/T/ipykernel_3262/1994102582.py:16: DeprecationWarning: DataFrameGroupBy.apply operated on the grouping columns. This behavior is deprecated, and in a future version of pandas the grouping columns will be excluded from the operation. Either pass `include_groups=False` to exclude the groupings or explicitly select the grouping columns after groupby to silence this warning.\n",
      "  monthly_doses = df.groupby(['month', 'ID']).apply(monthly_dose)\n"
     ]
    },
    {
     "data": {
      "text/html": [
       "<div>\n",
       "<style scoped>\n",
       "    .dataframe tbody tr th:only-of-type {\n",
       "        vertical-align: middle;\n",
       "    }\n",
       "\n",
       "    .dataframe tbody tr th {\n",
       "        vertical-align: top;\n",
       "    }\n",
       "\n",
       "    .dataframe thead th {\n",
       "        text-align: right;\n",
       "    }\n",
       "</style>\n",
       "<table border=\"1\" class=\"dataframe\">\n",
       "  <thead>\n",
       "    <tr style=\"text-align: right;\">\n",
       "      <th></th>\n",
       "      <th></th>\n",
       "      <th>med_a_monthly_dose</th>\n",
       "      <th>med_b_monthly_dose</th>\n",
       "    </tr>\n",
       "    <tr>\n",
       "      <th>month</th>\n",
       "      <th>ID</th>\n",
       "      <th></th>\n",
       "      <th></th>\n",
       "    </tr>\n",
       "  </thead>\n",
       "  <tbody>\n",
       "    <tr>\n",
       "      <th rowspan=\"5\" valign=\"top\">7</th>\n",
       "      <th>1</th>\n",
       "      <td>0.0</td>\n",
       "      <td>0.0</td>\n",
       "    </tr>\n",
       "    <tr>\n",
       "      <th>2</th>\n",
       "      <td>0.0</td>\n",
       "      <td>0.0</td>\n",
       "    </tr>\n",
       "    <tr>\n",
       "      <th>3</th>\n",
       "      <td>0.0</td>\n",
       "      <td>0.0</td>\n",
       "    </tr>\n",
       "    <tr>\n",
       "      <th>4</th>\n",
       "      <td>0.0</td>\n",
       "      <td>0.0</td>\n",
       "    </tr>\n",
       "    <tr>\n",
       "      <th>5</th>\n",
       "      <td>0.0</td>\n",
       "      <td>0.0</td>\n",
       "    </tr>\n",
       "    <tr>\n",
       "      <th>...</th>\n",
       "      <th>...</th>\n",
       "      <td>...</td>\n",
       "      <td>...</td>\n",
       "    </tr>\n",
       "    <tr>\n",
       "      <th>11</th>\n",
       "      <th>128</th>\n",
       "      <td>0.0</td>\n",
       "      <td>0.0</td>\n",
       "    </tr>\n",
       "    <tr>\n",
       "      <th rowspan=\"4\" valign=\"top\">12</th>\n",
       "      <th>6</th>\n",
       "      <td>0.0</td>\n",
       "      <td>0.0</td>\n",
       "    </tr>\n",
       "    <tr>\n",
       "      <th>58</th>\n",
       "      <td>0.0</td>\n",
       "      <td>0.0</td>\n",
       "    </tr>\n",
       "    <tr>\n",
       "      <th>79</th>\n",
       "      <td>0.0</td>\n",
       "      <td>0.0</td>\n",
       "    </tr>\n",
       "    <tr>\n",
       "      <th>108</th>\n",
       "      <td>0.0</td>\n",
       "      <td>0.0</td>\n",
       "    </tr>\n",
       "  </tbody>\n",
       "</table>\n",
       "<p>417 rows × 2 columns</p>\n",
       "</div>"
      ],
      "text/plain": [
       "           med_a_monthly_dose  med_b_monthly_dose\n",
       "month ID                                         \n",
       "7     1                   0.0                 0.0\n",
       "      2                   0.0                 0.0\n",
       "      3                   0.0                 0.0\n",
       "      4                   0.0                 0.0\n",
       "      5                   0.0                 0.0\n",
       "...                       ...                 ...\n",
       "11    128                 0.0                 0.0\n",
       "12    6                   0.0                 0.0\n",
       "      58                  0.0                 0.0\n",
       "      79                  0.0                 0.0\n",
       "      108                 0.0                 0.0\n",
       "\n",
       "[417 rows x 2 columns]"
      ]
     },
     "execution_count": 59,
     "metadata": {},
     "output_type": "execute_result"
    }
   ],
   "source": [
    "# 8. How much does the average total monthly dose per patient (Medication A and B) change for patients switched Sep vs Oct vs Nov?\n",
    "\n",
    "months = [9, 10, 11]\n",
    "df_6 = df[df['month'].isin(months)]\n",
    "\n",
    "\n",
    "def monthly_dose(group):\n",
    "    med_a = group[group['Med'] == 'Med A']\n",
    "    med_b = group[group['Med'] == 'Med B']\n",
    "    if len(med_a) > 0 and len(med_b) > 0 and med_b.index.min() > med_a.index.max():\n",
    "        med_a_monthly_dose = med_a['Units'].sum() * 4.33 / 1.134647\n",
    "        med_b_monthly_dose = med_b['Units'].sum()\n",
    "        return pd.Series({'med_a_monthly_dose': med_a_monthly_dose, 'med_b_monthly_dose': med_b_monthly_dose})\n",
    "    return pd.Series({'med_a_monthly_dose': 0, 'med_b_monthly_dose': 0})\n",
    "\n",
    "monthly_doses = df.groupby(['month', 'ID']).apply(monthly_dose)\n",
    "monthly_doses\n",
    "\n"
   ]
  },
  {
   "cell_type": "code",
   "execution_count": 60,
   "metadata": {},
   "outputs": [
    {
     "data": {
      "text/html": [
       "<div>\n",
       "<style scoped>\n",
       "    .dataframe tbody tr th:only-of-type {\n",
       "        vertical-align: middle;\n",
       "    }\n",
       "\n",
       "    .dataframe tbody tr th {\n",
       "        vertical-align: top;\n",
       "    }\n",
       "\n",
       "    .dataframe thead th {\n",
       "        text-align: right;\n",
       "    }\n",
       "</style>\n",
       "<table border=\"1\" class=\"dataframe\">\n",
       "  <thead>\n",
       "    <tr style=\"text-align: right;\">\n",
       "      <th></th>\n",
       "      <th>month</th>\n",
       "      <th>ID</th>\n",
       "      <th>med_a_monthly_dose</th>\n",
       "      <th>med_b_monthly_dose</th>\n",
       "    </tr>\n",
       "  </thead>\n",
       "  <tbody>\n",
       "    <tr>\n",
       "      <th>0</th>\n",
       "      <td>7</td>\n",
       "      <td>1</td>\n",
       "      <td>0.0</td>\n",
       "      <td>0.0</td>\n",
       "    </tr>\n",
       "    <tr>\n",
       "      <th>1</th>\n",
       "      <td>7</td>\n",
       "      <td>2</td>\n",
       "      <td>0.0</td>\n",
       "      <td>0.0</td>\n",
       "    </tr>\n",
       "    <tr>\n",
       "      <th>2</th>\n",
       "      <td>7</td>\n",
       "      <td>3</td>\n",
       "      <td>0.0</td>\n",
       "      <td>0.0</td>\n",
       "    </tr>\n",
       "    <tr>\n",
       "      <th>3</th>\n",
       "      <td>7</td>\n",
       "      <td>4</td>\n",
       "      <td>0.0</td>\n",
       "      <td>0.0</td>\n",
       "    </tr>\n",
       "    <tr>\n",
       "      <th>4</th>\n",
       "      <td>7</td>\n",
       "      <td>5</td>\n",
       "      <td>0.0</td>\n",
       "      <td>0.0</td>\n",
       "    </tr>\n",
       "    <tr>\n",
       "      <th>...</th>\n",
       "      <td>...</td>\n",
       "      <td>...</td>\n",
       "      <td>...</td>\n",
       "      <td>...</td>\n",
       "    </tr>\n",
       "    <tr>\n",
       "      <th>412</th>\n",
       "      <td>11</td>\n",
       "      <td>128</td>\n",
       "      <td>0.0</td>\n",
       "      <td>0.0</td>\n",
       "    </tr>\n",
       "    <tr>\n",
       "      <th>413</th>\n",
       "      <td>12</td>\n",
       "      <td>6</td>\n",
       "      <td>0.0</td>\n",
       "      <td>0.0</td>\n",
       "    </tr>\n",
       "    <tr>\n",
       "      <th>414</th>\n",
       "      <td>12</td>\n",
       "      <td>58</td>\n",
       "      <td>0.0</td>\n",
       "      <td>0.0</td>\n",
       "    </tr>\n",
       "    <tr>\n",
       "      <th>415</th>\n",
       "      <td>12</td>\n",
       "      <td>79</td>\n",
       "      <td>0.0</td>\n",
       "      <td>0.0</td>\n",
       "    </tr>\n",
       "    <tr>\n",
       "      <th>416</th>\n",
       "      <td>12</td>\n",
       "      <td>108</td>\n",
       "      <td>0.0</td>\n",
       "      <td>0.0</td>\n",
       "    </tr>\n",
       "  </tbody>\n",
       "</table>\n",
       "<p>417 rows × 4 columns</p>\n",
       "</div>"
      ],
      "text/plain": [
       "     month   ID  med_a_monthly_dose  med_b_monthly_dose\n",
       "0        7    1                 0.0                 0.0\n",
       "1        7    2                 0.0                 0.0\n",
       "2        7    3                 0.0                 0.0\n",
       "3        7    4                 0.0                 0.0\n",
       "4        7    5                 0.0                 0.0\n",
       "..     ...  ...                 ...                 ...\n",
       "412     11  128                 0.0                 0.0\n",
       "413     12    6                 0.0                 0.0\n",
       "414     12   58                 0.0                 0.0\n",
       "415     12   79                 0.0                 0.0\n",
       "416     12  108                 0.0                 0.0\n",
       "\n",
       "[417 rows x 4 columns]"
      ]
     },
     "execution_count": 60,
     "metadata": {},
     "output_type": "execute_result"
    }
   ],
   "source": [
    "monthly_doses = monthly_doses.reset_index(level=[0,1])\n",
    "monthly_doses"
   ]
  },
  {
   "cell_type": "code",
   "execution_count": 61,
   "metadata": {},
   "outputs": [
    {
     "data": {
      "text/html": [
       "<div>\n",
       "<style scoped>\n",
       "    .dataframe tbody tr th:only-of-type {\n",
       "        vertical-align: middle;\n",
       "    }\n",
       "\n",
       "    .dataframe tbody tr th {\n",
       "        vertical-align: top;\n",
       "    }\n",
       "\n",
       "    .dataframe thead th {\n",
       "        text-align: right;\n",
       "    }\n",
       "</style>\n",
       "<table border=\"1\" class=\"dataframe\">\n",
       "  <thead>\n",
       "    <tr style=\"text-align: right;\">\n",
       "      <th></th>\n",
       "      <th>med_a_monthly_dose</th>\n",
       "      <th>med_b_monthly_dose</th>\n",
       "    </tr>\n",
       "    <tr>\n",
       "      <th>month</th>\n",
       "      <th></th>\n",
       "      <th></th>\n",
       "    </tr>\n",
       "  </thead>\n",
       "  <tbody>\n",
       "    <tr>\n",
       "      <th>7</th>\n",
       "      <td>0.000000</td>\n",
       "      <td>0.000000</td>\n",
       "    </tr>\n",
       "    <tr>\n",
       "      <th>8</th>\n",
       "      <td>0.000000</td>\n",
       "      <td>0.000000</td>\n",
       "    </tr>\n",
       "    <tr>\n",
       "      <th>9</th>\n",
       "      <td>33231.338981</td>\n",
       "      <td>5.149425</td>\n",
       "    </tr>\n",
       "    <tr>\n",
       "      <th>10</th>\n",
       "      <td>0.000000</td>\n",
       "      <td>0.000000</td>\n",
       "    </tr>\n",
       "    <tr>\n",
       "      <th>11</th>\n",
       "      <td>0.000000</td>\n",
       "      <td>0.000000</td>\n",
       "    </tr>\n",
       "    <tr>\n",
       "      <th>12</th>\n",
       "      <td>0.000000</td>\n",
       "      <td>0.000000</td>\n",
       "    </tr>\n",
       "  </tbody>\n",
       "</table>\n",
       "</div>"
      ],
      "text/plain": [
       "       med_a_monthly_dose  med_b_monthly_dose\n",
       "month                                        \n",
       "7                0.000000            0.000000\n",
       "8                0.000000            0.000000\n",
       "9            33231.338981            5.149425\n",
       "10               0.000000            0.000000\n",
       "11               0.000000            0.000000\n",
       "12               0.000000            0.000000"
      ]
     },
     "execution_count": 61,
     "metadata": {},
     "output_type": "execute_result"
    }
   ],
   "source": [
    "avg_doses_per_month = monthly_doses.groupby('month')[['med_a_monthly_dose', 'med_b_monthly_dose']].mean()\n",
    "avg_doses_per_month"
   ]
  },
  {
   "cell_type": "code",
   "execution_count": 62,
   "metadata": {},
   "outputs": [
    {
     "name": "stdout",
     "output_type": "stream",
     "text": [
      "Percentages for September:\n",
      "same      0.0\n",
      "higher    0.0\n",
      "lower     0.0\n",
      "zero      0.0\n",
      "dtype: float64\n",
      "\n",
      "Percentages for October:\n",
      "same       0.0\n",
      "higher    50.0\n",
      "lower     50.0\n",
      "zero       0.0\n",
      "dtype: float64\n",
      "\n",
      "Percentages for September and October combined:\n",
      "same      59.615385\n",
      "higher    13.461538\n",
      "lower     26.923077\n",
      "zero       0.000000\n",
      "dtype: float64\n"
     ]
    },
    {
     "name": "stderr",
     "output_type": "stream",
     "text": [
      "/var/folders/wk/sjdjx94s6pzdbsvs0ktmtncr0000gn/T/ipykernel_3262/1297336521.py:26: DeprecationWarning: DataFrameGroupBy.apply operated on the grouping columns. This behavior is deprecated, and in a future version of pandas the grouping columns will be excluded from the operation. Either pass `include_groups=False` to exclude the groupings or explicitly select the grouping columns after groupby to silence this warning.\n",
      "  sep_counts = sep_df.groupby('ID').apply(categorize_dose_change).sum()\n",
      "/var/folders/wk/sjdjx94s6pzdbsvs0ktmtncr0000gn/T/ipykernel_3262/1297336521.py:34: DeprecationWarning: DataFrameGroupBy.apply operated on the grouping columns. This behavior is deprecated, and in a future version of pandas the grouping columns will be excluded from the operation. Either pass `include_groups=False` to exclude the groupings or explicitly select the grouping columns after groupby to silence this warning.\n",
      "  oct_counts = oct_df.groupby('ID').apply(categorize_dose_change).sum()\n",
      "/var/folders/wk/sjdjx94s6pzdbsvs0ktmtncr0000gn/T/ipykernel_3262/1297336521.py:42: DeprecationWarning: DataFrameGroupBy.apply operated on the grouping columns. This behavior is deprecated, and in a future version of pandas the grouping columns will be excluded from the operation. Either pass `include_groups=False` to exclude the groupings or explicitly select the grouping columns after groupby to silence this warning.\n",
      "  sep_oct_counts = sep_oct_df.groupby('ID').apply(categorize_dose_change).sum()\n"
     ]
    }
   ],
   "source": [
    "# 9. In patients what were switched to Med B, what percent of the 2nd Med B dose (total dose in month following 1st dose)\n",
    "# was the same as  the 1st Med B dose? Higher than the 1st dose? Lower than the first dose (nut not a zero dose)?\n",
    "# No dose at all (a zero dose)? (calculate for patients swithced in Sep only, October only, and Sep and Oct together\n",
    "# assume Med B dose is for 1 month only)\n",
    "\n",
    "\n",
    "def categorize_dose_change(group):\n",
    "    med_b = group[group['Med'] == 'Med B']\n",
    "    if len(med_b) < 2:\n",
    "        return pd.Series({'same': 0, 'higher': 0, 'lower': 0, 'zero': 0})\n",
    "    \n",
    "    first_dose = med_b.iloc[0]['Units']\n",
    "    second_dose = med_b.iloc[1]['Units']\n",
    "    \n",
    "    if first_dose == second_dose:\n",
    "        return pd.Series({'same': 1, 'higher': 0, 'lower': 0, 'zero': 0})\n",
    "    elif second_dose > first_dose:\n",
    "        return pd.Series({'same': 0, 'higher': 1, 'lower': 0, 'zero': 0})\n",
    "    elif second_dose < first_dose and second_dose > 0:\n",
    "        return pd.Series({'same': 0, 'higher': 0, 'lower': 1, 'zero': 0})\n",
    "    else:\n",
    "        return pd.Series({'same': 0, 'higher': 0, 'lower': 0, 'zero': 1})\n",
    "\n",
    "\n",
    "sep_df = df[df['month'] == 9]\n",
    "sep_counts = sep_df.groupby('ID').apply(categorize_dose_change).sum()\n",
    "sep_totals = sep_counts.sum()\n",
    "sep_percentages = (sep_counts / sep_totals * 100).fillna(0)\n",
    "print(\"Percentages for September:\")\n",
    "print(sep_percentages)\n",
    "\n",
    "\n",
    "oct_df = df[df['month'] == 10]\n",
    "oct_counts = oct_df.groupby('ID').apply(categorize_dose_change).sum()\n",
    "oct_totals = oct_counts.sum()\n",
    "oct_percentages = (oct_counts / oct_totals * 100).fillna(0)\n",
    "print(\"\\nPercentages for October:\")\n",
    "print(oct_percentages)\n",
    "\n",
    "\n",
    "sep_oct_df = df[df['month'].isin([9, 10])]\n",
    "sep_oct_counts = sep_oct_df.groupby('ID').apply(categorize_dose_change).sum()\n",
    "sep_oct_totals = sep_oct_counts.sum()\n",
    "sep_oct_percentages = (sep_oct_counts / sep_oct_totals * 100).fillna(0)\n",
    "print(\"\\nPercentages for September and October combined:\")\n",
    "print(sep_oct_percentages)"
   ]
  },
  {
   "cell_type": "code",
   "execution_count": 158,
   "metadata": {},
   "outputs": [
    {
     "name": "stdout",
     "output_type": "stream",
     "text": [
      "Patients who switched from Med A to Med B:\n",
      "[  1.   2.   4.   5.   8.   9.  10.  12.  15.  16.  17.  18.  19.  20.\n",
      "  21.  22.  25.  28.  29.  30.  31.  33.  35.  36.  38.  39.  42.  46.\n",
      "  47.  48.  49.  52.  53.  54.  57.  60.  63.  65.  66.  67.  69.  73.\n",
      "  74.  75.  77.  81.  82.  83.  85.  86.  87.  90.  91.  92.  94.  96.\n",
      "  97.  98.  99. 100. 101. 104. 105. 106. 108. 109. 110. 111. 112. 113.\n",
      " 114. 116. 117. 118. 119. 121. 122. 125. 126. 128. 129.]\n"
     ]
    },
    {
     "name": "stderr",
     "output_type": "stream",
     "text": [
      "/Users/youweicheng/Library/Python/3.9/lib/python/site-packages/openpyxl/worksheet/_reader.py:329: UserWarning: Unknown extension is not supported and will be removed\n",
      "  warn(msg)\n",
      "/var/folders/wk/sjdjx94s6pzdbsvs0ktmtncr0000gn/T/ipykernel_3262/2847439292.py:16: DeprecationWarning: DataFrameGroupBy.apply operated on the grouping columns. This behavior is deprecated, and in a future version of pandas the grouping columns will be excluded from the operation. Either pass `include_groups=False` to exclude the groupings or explicitly select the grouping columns after groupby to silence this warning.\n",
      "  switched_patients = df.groupby('ID').apply(switched_to_med_b).dropna().unique()\n"
     ]
    },
    {
     "data": {
      "text/plain": [
       "ID     LAB_RESULT_CODE\n",
       "1.0    LAB A                                           679621915848845611\n",
       "       LAB B                 10.710.210.310.310.410.711.011.011.911.111.1\n",
       "       LAB C                                                  26725406022\n",
       "2.0    LAB A                                         10791190120416221181\n",
       "       LAB B              9.611.311.212.012.910.610.010.813.012.012.510.6\n",
       "                                               ...                       \n",
       "128.0  LAB B               11.29.611.610.711.212.011.611.210.911.310.19.2\n",
       "       LAB C                                                   3226272449\n",
       "129.0  LAB A                                                    709744439\n",
       "       LAB B                                    11.711.89.89.810.210.09.4\n",
       "       LAB C                                                       363927\n",
       "Name: LAB_VALUE, Length: 351, dtype: object"
      ]
     },
     "execution_count": 158,
     "metadata": {},
     "output_type": "execute_result"
    }
   ],
   "source": [
    "# 10. For patients that switch from Med A to Med B (question 4), what’s the average LAB B value for these patients when they were on Med A? Med B?\n",
    "\n",
    "\n",
    "df_lab = pd.read_excel('Data Analyst File.xlsx', sheet_name='Labs')\n",
    "\n",
    "\n",
    "\n",
    "def switched_to_med_b(group):\n",
    "    med_a = group[group['Med'] == 'Med A']\n",
    "    med_b = group[group['Med'] == 'Med B']\n",
    "    if len(med_a) > 0 and len(med_b) > 0 and med_b.index.min() > med_a.index.max():\n",
    "        return group['ID'].unique()[0]\n",
    "    return None\n",
    "\n",
    "\n",
    "switched_patients = df.groupby('ID').apply(switched_to_med_b).dropna().unique()\n",
    "\n",
    "print(\"Patients who switched from Med A to Med B:\")\n",
    "print(switched_patients)\n",
    "\n",
    "switched_patients = switched_patients.astype('int64')\n",
    "\n",
    "\n",
    "df_10 = df_lab.groupby(['ID', \"LAB_RESULT_CODE\"])['LAB_VALUE'].sum()\n",
    "\n",
    "df_10\n",
    "\n",
    "\n",
    "    \n",
    "   \n",
    "\n",
    "\n",
    "\n",
    "\n",
    "\n",
    "\n"
   ]
  },
  {
   "cell_type": "code",
   "execution_count": null,
   "metadata": {},
   "outputs": [],
   "source": []
  }
 ],
 "metadata": {
  "kernelspec": {
   "display_name": "Python 3",
   "language": "python",
   "name": "python3"
  },
  "language_info": {
   "codemirror_mode": {
    "name": "ipython",
    "version": 3
   },
   "file_extension": ".py",
   "mimetype": "text/x-python",
   "name": "python",
   "nbconvert_exporter": "python",
   "pygments_lexer": "ipython3",
   "version": "3.9.6"
  }
 },
 "nbformat": 4,
 "nbformat_minor": 2
}
